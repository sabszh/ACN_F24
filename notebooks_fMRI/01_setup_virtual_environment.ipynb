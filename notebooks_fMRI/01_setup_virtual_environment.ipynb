{
 "cells": [
  {
   "cell_type": "markdown",
   "id": "0c56fd65-a9ad-4442-9989-afed718d9077",
   "metadata": {},
   "source": [
    "# Making a new virtual Python environment\n",
    "\n",
    "Everytime we start UCloud, it will start a fresh version of Python. This means that we have to install everything. \n",
    "\n",
    "This takes a lot of time. A way to prevent this is to install your own version of Python in something called an environment. An environment is really just a folder that contains all the Python scripts that you decide to install for a particular project.\n"
   ]
  },
  {
   "cell_type": "code",
   "execution_count": null,
   "id": "012874b0-de9a-4ab8-8cd0-51b64f9be2d0",
   "metadata": {},
   "outputs": [
    {
     "ename": "",
     "evalue": "",
     "output_type": "error",
     "traceback": [
      "\u001b[1;31mThe kernel failed to start as the Python Environment 'Python' is no longer available. Consider selecting another kernel or refreshing the list of Python Environments."
     ]
    }
   ],
   "source": [
    "import os\n",
    "import shutil\n",
    "import pip"
   ]
  },
  {
   "cell_type": "markdown",
   "id": "0d7bd6ed-9dfa-4948-9103-364f05f05c69",
   "metadata": {},
   "source": [
    "## Make your own folder in the 'student_folders' directory\n",
    "## IMPORTANT: Don't mess around with other people's folders!!\n",
    "Everybody has editing rights on the student_folders, so take care.\n",
    "\n",
    "If you worry, you can also run everything from your own private folder."
   ]
  },
  {
   "cell_type": "code",
   "execution_count": null,
   "id": "8f070b06-1013-4fc1-9c16-26c8466ac242",
   "metadata": {},
   "outputs": [],
   "source": [
    "# The student folder is called\n",
    "\n",
    "student_folder='/work/student_folders'\n",
    "\n",
    "my_folder='mikkels_folder' #make your own\n",
    "\n",
    "os.chdir(student_folder)\n",
    "\n",
    "my_path = os.path.join(student_folder, my_folder)\n",
    "\n",
    "#If you want to remove your folder and start over, comment out the mkdir line and uncomment this line:\n",
    "#shutil.rmtree(my_path) # Use shutil to remove entire folder with content.\n",
    "\n",
    "# Make directory\n",
    "os.mkdir(my_path)\n",
    "#If you get an error here, the folder name is already in use"
   ]
  },
  {
   "cell_type": "markdown",
   "id": "12516c3b-ca5d-410b-b250-de37123e93ae",
   "metadata": {},
   "source": [
    "## Move notebooks to a folder where you can work on them and write results, if needed"
   ]
  },
  {
   "cell_type": "code",
   "execution_count": null,
   "id": "b362269f-4dd6-4bac-8440-64c2332ef865",
   "metadata": {},
   "outputs": [],
   "source": [
    "# Folder where notebooks are saved\n",
    "notebook_source='/work/notebooks_fMRI'\n",
    "# Working folder for notebooks\n",
    "notebook_destination = os.path.join(my_path, 'notebooks_fMRI')\n",
    "shutil.copytree(notebook_source, notebook_destination)\n",
    "#If you get an error here, you may already have moved the files."
   ]
  },
  {
   "cell_type": "markdown",
   "id": "9cfe32f0-c984-470c-8e4d-0b2dc8c7ceb5",
   "metadata": {},
   "source": [
    "## Remove old virtual environment in notebook folder, if it exists"
   ]
  },
  {
   "cell_type": "code",
   "execution_count": null,
   "id": "6bbc1160-caff-4e8c-b8d2-b3bfb09fd4bf",
   "metadata": {},
   "outputs": [],
   "source": [
    "#Define local path and environment name. You need to change this to your local folder.\n",
    "\n",
    "env_name='virt_env' # Name of the virtual environment\n",
    "#path='/work/notebooks_fMRI'\n",
    "#env_path=os.path.join(path,env_name)\n",
    "env_path=os.path.join(notebook_destination,env_name)\n",
    "\n",
    "os.chdir(notebook_destination)\n",
    "\n",
    "shutil.rmtree(env_path) # Use shutil to remove entire folder with content.\n"
   ]
  },
  {
   "cell_type": "markdown",
   "id": "b28ea970-d0fc-4633-9f64-c6c5fe5697c0",
   "metadata": {},
   "source": [
    "## Make a new virtual environment and activate it\n",
    "\n",
    "Code is in a small shell script called ```setup.sh``` This should be located in your working directory. If not, save the following in a file with this filename.\n",
    "\n",
    "```bash\n",
    "python -m venv virt_env\n",
    ". /work/<MY DIRECTORY NUMBER>/virt_env/bin/activate\n",
    "python -m pip install ipykernel\n",
    "python -m ipykernel install --user --name=virt_env\n",
    "echo Done!\n",
    "```\n",
    "\n",
    "To investigate/edit the content of the bash file, you can open it using a text editor. The script contains code that you could use in the terminal.\n",
    "\n",
    "The script creates and activates a virtual environment called ```virt_env```\n",
    "\n",
    "In this environment it installs an iPython kernel called ```virt_env```\n"
   ]
  },
  {
   "cell_type": "code",
   "execution_count": null,
   "id": "be1078cb-66da-4525-9c97-64428a83378a",
   "metadata": {},
   "outputs": [],
   "source": [
    "#path='/work/notebooks_fMRI'\n",
    "#os.chdir(path)\n",
    "#path=my_path\n",
    "os.chdir(notebook_destination)\n",
    "# Running setup.sh \"!\" is used to run terminal commands in jupyter.\n",
    "!./setup.sh"
   ]
  },
  {
   "cell_type": "markdown",
   "id": "6968fe02-217b-40a0-b6ee-5de5d7c0492e",
   "metadata": {},
   "source": [
    "## Change the iPython kernel\n",
    "You can now change the kernel you are using for this notebook by \n",
    "- pressing \"kernel\" in the menu above \n",
    "- clicking \"change kernel\"\n",
    "- Selecting the kernel with the name (e.g. ```virt_env```) specified above.\n",
    "\n",
    "You should now see the name of your ipython kernel in the top right of the window.\n",
    "\n",
    "We can also check which environment we are in by running the code below:"
   ]
  },
  {
   "cell_type": "code",
   "execution_count": null,
   "id": "6e9e6f56-4749-453d-b6b7-089caebaa61e",
   "metadata": {},
   "outputs": [
    {
     "ename": "",
     "evalue": "",
     "output_type": "error",
     "traceback": [
      "\u001b[1;31mThe kernel failed to start as the Python Environment 'Python' is no longer available. Consider selecting another kernel or refreshing the list of Python Environments."
     ]
    }
   ],
   "source": [
    "import sys\n",
    "import os\n",
    "print(sys.executable)"
   ]
  },
  {
   "cell_type": "markdown",
   "id": "fa9d63f9-70b1-4d59-b8f3-96284a704594",
   "metadata": {},
   "source": [
    "It should have the ```virt_env``` name in the path. \n",
    "\n",
    "If it says ```/opt/conda/bin/python``` then you are still in the original environment.\n",
    "\n",
    "The cool thing is that this environment is kept, even when the run is closed or runs out of time, so you only have to install this once.\n",
    "\n",
    "### Checking that the environment is empty\n",
    "Given that you have just made the virtual environment, it should not have any Python packages installed.\n",
    "\n",
    "Let's see if this is true:"
   ]
  },
  {
   "cell_type": "code",
   "execution_count": null,
   "id": "252b02b5-ddd4-4732-865c-42e4cde892f6",
   "metadata": {},
   "outputs": [
    {
     "ename": "",
     "evalue": "",
     "output_type": "error",
     "traceback": [
      "\u001b[1;31mThe kernel failed to start as the Python Environment 'Python' is no longer available. Consider selecting another kernel or refreshing the list of Python Environments."
     ]
    }
   ],
   "source": [
    "import nilearn"
   ]
  },
  {
   "cell_type": "markdown",
   "id": "cb0c15e2-2051-4be5-9e55-9dbcd99113ea",
   "metadata": {},
   "source": [
    "If you got an error here, you are in  a fresh environment."
   ]
  },
  {
   "cell_type": "markdown",
   "id": "09173736-58d1-49fa-9b7d-19b9b29efa4f",
   "metadata": {},
   "source": [
    "### Install modules for neuroimaging\n",
    "Now, let's install some packages that we will use in the course.\n",
    "\n",
    "We will use a bash script for this as well. The script called ```install_python_packages.sh``` This should be located in your working directory. If not, save the following in a file with this filename.\n",
    "\n",
    "```bash\n",
    ". /work/<MY DIRECTORY NUMBER>/virt_env/bin/activate\n",
    "python -m pip install imageio\n",
    "python -m pip install scipy\n",
    "python -m pip install numpy\n",
    "python -m pip install matplotlib\n",
    "python -m pip install dicom2nifti\n",
    "python -m pip install nibabel\n",
    "python -m pip install nilearn\n",
    "python -m pip install scikit-learn\n",
    "python -m pip install mne\n",
    "python -m pip install seaborn\n",
    "python -m pip install crtoolbox\n",
    "python -m pip install ipywidgets\n",
    "python -m pip install pandas\n",
    "python -m pip install pyvistaqt\n",
    "python -m pip install itertools\n",
    "python -m pip install ndslib\n",
    "python -m pip install pickle\n",
    "python -m pip install h5io\n",
    "echo Done!\n",
    "```\n",
    "\n"
   ]
  },
  {
   "cell_type": "code",
   "execution_count": null,
   "id": "9c42d5b2-76d8-4c02-ac1a-ce99f906f98f",
   "metadata": {},
   "outputs": [
    {
     "ename": "",
     "evalue": "",
     "output_type": "error",
     "traceback": [
      "\u001b[1;31mRunning cells with '.venv (Python 3.12.3)' requires the ipykernel package.\n",
      "\u001b[1;31mRun the following command to install 'ipykernel' into the Python environment. \n",
      "\u001b[1;31mCommand: '/work/SabrinaSchrollZakiHansen#5217/ACN_F24/.venv/bin/python3 -m pip install ipykernel -U --force-reinstall'"
     ]
    }
   ],
   "source": [
    "# ! is used to run terminal commands.\n",
    "import os\n",
    "\n",
    "student_folder='/work/student_folders'\n",
    "my_folder='mikkels_folder' #make your own\n",
    "my_path = os.path.join(student_folder, my_folder)\n",
    "notebook_destination = os.path.join(my_path, 'notebooks_fMRI')\n",
    "os.chdir(notebook_destination)\n",
    "path='/work/notebooks_fMRI'\n",
    "os.chdir(path)\n",
    "!./install_python_packages.sh"
   ]
  },
  {
   "cell_type": "markdown",
   "id": "59772d90-a836-4a3a-b130-56283250af29",
   "metadata": {},
   "source": [
    "### Checking which environment we are in and if it is still empty"
   ]
  },
  {
   "cell_type": "code",
   "execution_count": null,
   "id": "37b77136",
   "metadata": {},
   "outputs": [],
   "source": []
  },
  {
   "cell_type": "code",
   "execution_count": 2,
   "id": "2c66845d-903e-46d0-aa43-e3cb019a9e7d",
   "metadata": {},
   "outputs": [
    {
     "name": "stdout",
     "output_type": "stream",
     "text": [
      "/work/SabrinaSchrollZakiHansen#5217/ACN_F24/.venv/bin/python3\n"
     ]
    },
    {
     "ename": "ModuleNotFoundError",
     "evalue": "No module named 'nilearn'",
     "output_type": "error",
     "traceback": [
      "\u001b[0;31m---------------------------------------------------------------------------\u001b[0m",
      "\u001b[0;31mModuleNotFoundError\u001b[0m                       Traceback (most recent call last)",
      "Cell \u001b[0;32mIn[2], line 3\u001b[0m\n\u001b[1;32m      1\u001b[0m \u001b[38;5;28;01mimport\u001b[39;00m \u001b[38;5;21;01msys\u001b[39;00m\n\u001b[1;32m      2\u001b[0m \u001b[38;5;28mprint\u001b[39m(sys\u001b[38;5;241m.\u001b[39mexecutable)\n\u001b[0;32m----> 3\u001b[0m \u001b[38;5;28;01mimport\u001b[39;00m \u001b[38;5;21;01mnilearn\u001b[39;00m\n",
      "\u001b[0;31mModuleNotFoundError\u001b[0m: No module named 'nilearn'"
     ]
    }
   ],
   "source": [
    "import sys\n",
    "print(sys.executable)\n",
    "import nilearn"
   ]
  },
  {
   "cell_type": "markdown",
   "id": "c0cd34bc-435b-44b3-a923-5120cc660fa1",
   "metadata": {},
   "source": [
    "### Setup done!\n",
    "\n",
    "We now have an installed virtual environment, and we can call on it when we need it by activating the environment and changing the ipython kernel in later notebooks.\n",
    "\n",
    "If for some reason you want to start over, you can always run this script again, and it will erase you old environment and make a new one. Before doing so, it might be wise to rename the old environment and keep it until you figure out if it was really a good idea to start from scratch.\n",
    "\n",
    "### Don't save your files in the environment folder as they will be deleted too if you decide to start over."
   ]
  },
  {
   "cell_type": "code",
   "execution_count": null,
   "id": "ff4e77c4-8bc1-49df-ae28-9146072d10c8",
   "metadata": {},
   "outputs": [],
   "source": []
  }
 ],
 "metadata": {
  "kernelspec": {
   "display_name": "Python 3 ",
   "language": "python",
   "name": "python3"
  },
  "language_info": {
   "codemirror_mode": {
    "name": "ipython",
    "version": 3
   },
   "file_extension": ".py",
   "mimetype": "text/x-python",
   "name": "python",
   "nbconvert_exporter": "python",
   "pygments_lexer": "ipython3",
   "version": "3.12.3"
  }
 },
 "nbformat": 4,
 "nbformat_minor": 5
}
