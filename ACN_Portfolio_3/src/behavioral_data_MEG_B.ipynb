{
 "cells": [
  {
   "cell_type": "code",
   "execution_count": 1,
   "id": "ceb0dcf1-cce6-4743-9e79-34bc426e13dd",
   "metadata": {},
   "outputs": [
    {
     "name": "stdout",
     "output_type": "stream",
     "text": [
      "         Mixed Linear Model Regression Results\n",
      "=======================================================\n",
      "Model:            MixedLM Dependent Variable: rt_select\n",
      "No. Observations: 160     Method:             REML     \n",
      "No. Groups:       1       Scale:              0.0530   \n",
      "Min. group size:  160     Log-Likelihood:     2.5337   \n",
      "Max. group size:  160     Converged:          Yes      \n",
      "Mean group size:  160.0                                \n",
      "-------------------------------------------------------\n",
      "           Coef.   Std.Err.    z    P>|z| [0.025 0.975]\n",
      "-------------------------------------------------------\n",
      "Intercept  0.594       0.232  2.555 0.011  0.138  1.049\n",
      "n_moves    0.201       0.014 13.947 0.000  0.172  0.229\n",
      "Group Var  0.053 8259355.250                           \n",
      "=======================================================\n",
      "\n",
      "   session  residuals\n",
      "0        1   0.720288\n",
      "1        1   0.213693\n",
      "2        1   0.113419\n",
      "3        1   0.387777\n",
      "4        1  -0.362912\n"
     ]
    }
   ],
   "source": [
    "import pandas as pd\n",
    "import statsmodels.formula.api as smf\n",
    "import numpy as np\n",
    "\n",
    "# Load the dataset from the given directory\n",
    "file_path = \"/work/student_folders/markus_folder/data/merged_logfile_145_B.csv\"\n",
    "df_145_B = pd.read_csv(file_path)\n",
    "\n",
    "# Calculate mean reaction time per participant\n",
    "df_145_B['mean_rt_participant'] = df_145_B['rt_select'].mean()\n",
    "\n",
    "df_145_B\n",
    "\n",
    "# Step 1: Fit the linear regression model with log_rt_select as the outcome,\n",
    "# and move_count, move_duration, and mean_rt_participant as predictors\n",
    "model = smf.mixedlm(\"rt_select ~ n_moves\", data=df_145_B, groups=df_145_B[\"mean_rt_participant\"], re_formula=\"~1\")\n",
    "result = model.fit()\n",
    "# Print the summary of the regression model\n",
    "print(result.summary())\n",
    "\n",
    "# Get the residuals from the model\n",
    "df_145_B['residuals'] = result.resid\n",
    "\n",
    "# Check residuals\n",
    "print(df_145_B[['session', 'residuals']].head())\n",
    "\n",
    "# Step 2: Adjust residuals so that the lowest residual becomes 0\n",
    "min_residual = df_145_B['residuals'].min()  # Find the minimum residual\n",
    "df_145_B['adjusted_residuals'] = df_145_B['residuals'] - min_residual  # Subtract the minimum from all residuals\n",
    "\n",
    "# Optionally, save results\n",
    "#df_145.to_csv(\"/work/student_folders/markus_folder/df_1_with_residuals.csv\", index=False)\n"
   ]
  },
  {
   "cell_type": "code",
   "execution_count": 3,
   "id": "37f81b21-3884-40a3-85e3-a2ead34407e2",
   "metadata": {},
   "outputs": [
    {
     "name": "stdout",
     "output_type": "stream",
     "text": [
      "   frames_before_decks  init_mark  dur_win  deck_select  rt_select  \\\n",
      "0                   72          0      240            4   1.915792   \n",
      "1                   72          2      240            3   0.807522   \n",
      "2                   72          0      240            4   1.308924   \n",
      "3                   72          0      240            3   1.382723   \n",
      "4                   72          3      240            3   0.832592   \n",
      "\n",
      "   frames_after_decks  n_moves  no  ID  win  ...  session  condition  \\\n",
      "0                  48        3   1 NaN   50  ...        1   iowa_exp   \n",
      "1                  48        0   2 NaN   50  ...        1   iowa_exp   \n",
      "2                  48        3   3 NaN   50  ...        1   iowa_exp   \n",
      "3                  48        2   4 NaN   50  ...        1   iowa_exp   \n",
      "4                  48        3   5 NaN   50  ...        1   iowa_exp   \n",
      "\n",
      "   onset_win  section  mean_rt_participant  residuals adjusted_residuals  \\\n",
      "0   3.317445        B             0.957342   0.720288           1.099402   \n",
      "1   7.152265        B             0.957342   0.213693           0.592807   \n",
      "2  11.503944        B             0.957342   0.113419           0.492534   \n",
      "3  15.888997        B             0.957342   0.387777           0.766891   \n",
      "4  19.757180        B             0.957342  -0.362912           0.016202   \n",
      "\n",
      "  trials  switches  switch_frequency  \n",
      "0     40        20               0.5  \n",
      "1     40        20               0.5  \n",
      "2     40        20               0.5  \n",
      "3     40        20               0.5  \n",
      "4     40        20               0.5  \n",
      "\n",
      "[5 rows x 30 columns]\n"
     ]
    }
   ],
   "source": [
    "# Load the dataset from the given directory\n",
    "file_path = \"/work/student_folders/markus_folder/data/switch_df_B.csv\"\n",
    "switch_df_B = pd.read_csv(file_path)\n",
    "\n",
    "# Clean 'session' column in switch_df_B\n",
    "switch_df_B['session'] = switch_df_B['session'].apply(\n",
    "    lambda x: int(x.strip(\"(),\")) if isinstance(x, str) else x\n",
    ")\n",
    "\n",
    "# Ensure all values are integers\n",
    "switch_df_B['session'] = switch_df_B['session'].astype(int)\n",
    "\n",
    "# Convert 'session' column in both DataFrames to integers\n",
    "df_145_B['session'] = df_145_B['session'].astype(int)\n",
    "switch_df_B['session'] = switch_df_B['session'].apply(lambda x: int(x.strip(\"(),\")) if isinstance(x, str) else x)\n",
    "\n",
    "# Perform the merge\n",
    "merged_df_B = pd.merge(df_145_B, switch_df_B, on=['session'], how='outer')\n",
    "\n",
    "# Verify the result\n",
    "print(merged_df_B.head())\n",
    "\n",
    "# Calculate confidence value by multiplying adjusted_residuals with switch_frequency\n",
    "# Handle NaN values (ensure no missing data for the calculation)\n",
    "merged_df_B['confidence_value'] = merged_df_B['adjusted_residuals'] * merged_df_B['switch_frequency']\n",
    "\n",
    "# Calculate overall median confidence value for the entire dataset\n",
    "overall_median_confidence_B = merged_df_B['confidence_value'].median()\n",
    "\n",
    "# Create a new column for confidence (1 for below median, 0 for above)\n",
    "merged_df_B['confidence'] = merged_df_B['confidence_value'].apply(\n",
    "    lambda x: 1 if x < overall_median_confidence_B else 0\n",
    ")\n"
   ]
  },
  {
   "cell_type": "code",
   "execution_count": 4,
   "id": "2913ddf4-864b-40fc-bcde-de2daf4484f7",
   "metadata": {},
   "outputs": [
    {
     "name": "stdout",
     "output_type": "stream",
     "text": [
      "confidence   0   1\n",
      "session           \n",
      "1           22  18\n",
      "2           26  14\n",
      "3            7  33\n",
      "4           25  15\n"
     ]
    }
   ],
   "source": [
    "# Normalize the 'session' column to ensure consistent formatting\n",
    "merged_df_B['session'] = merged_df_B['session'].apply(lambda x: x[0] if isinstance(x, tuple) else x)\n",
    "\n",
    "# Group by 'session' and check the distribution of 'confidence'\n",
    "distribution_B = merged_df_B.groupby('session')['confidence'].value_counts().unstack(fill_value=0)\n",
    "\n",
    "# Display the corrected distribution\n",
    "print(distribution_B)\n"
   ]
  }
 ],
 "metadata": {
  "kernelspec": {
   "display_name": "virt_env",
   "language": "python",
   "name": "virt_env"
  },
  "language_info": {
   "codemirror_mode": {
    "name": "ipython",
    "version": 3
   },
   "file_extension": ".py",
   "mimetype": "text/x-python",
   "name": "python",
   "nbconvert_exporter": "python",
   "pygments_lexer": "ipython3",
   "version": "3.10.14"
  }
 },
 "nbformat": 4,
 "nbformat_minor": 5
}
